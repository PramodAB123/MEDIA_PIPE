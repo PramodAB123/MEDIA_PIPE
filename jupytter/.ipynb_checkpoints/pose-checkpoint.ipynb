{
 "cells": [
  {
   "cell_type": "code",
   "execution_count": 1,
   "id": "6f4ec7ba-3780-4c60-8750-60f8e1ff0b5e",
   "metadata": {},
   "outputs": [
    {
     "name": "stdout",
     "output_type": "stream",
     "text": [
      "Requirement already satisfied: mediapipe in c:\\users\\pramo\\mp_env\\lib\\site-packages (0.10.21)\n",
      "Requirement already satisfied: opencv-python in c:\\users\\pramo\\mp_env\\lib\\site-packages (4.11.0.86)\n",
      "Requirement already satisfied: numpy in c:\\users\\pramo\\mp_env\\lib\\site-packages (1.26.4)\n",
      "Requirement already satisfied: absl-py in c:\\users\\pramo\\mp_env\\lib\\site-packages (from mediapipe) (2.3.1)\n",
      "Requirement already satisfied: attrs>=19.1.0 in c:\\users\\pramo\\mp_env\\lib\\site-packages (from mediapipe) (25.3.0)\n",
      "Requirement already satisfied: flatbuffers>=2.0 in c:\\users\\pramo\\mp_env\\lib\\site-packages (from mediapipe) (25.2.10)\n",
      "Requirement already satisfied: jax in c:\\users\\pramo\\mp_env\\lib\\site-packages (from mediapipe) (0.6.2)\n",
      "Requirement already satisfied: jaxlib in c:\\users\\pramo\\mp_env\\lib\\site-packages (from mediapipe) (0.6.2)\n",
      "Requirement already satisfied: matplotlib in c:\\users\\pramo\\mp_env\\lib\\site-packages (from mediapipe) (3.10.6)\n",
      "Requirement already satisfied: opencv-contrib-python in c:\\users\\pramo\\mp_env\\lib\\site-packages (from mediapipe) (4.11.0.86)\n",
      "Requirement already satisfied: protobuf<5,>=4.25.3 in c:\\users\\pramo\\mp_env\\lib\\site-packages (from mediapipe) (4.25.8)\n",
      "Requirement already satisfied: sounddevice>=0.4.4 in c:\\users\\pramo\\mp_env\\lib\\site-packages (from mediapipe) (0.5.2)\n",
      "Requirement already satisfied: sentencepiece in c:\\users\\pramo\\mp_env\\lib\\site-packages (from mediapipe) (0.2.1)\n",
      "Requirement already satisfied: CFFI>=1.0 in c:\\users\\pramo\\mp_env\\lib\\site-packages (from sounddevice>=0.4.4->mediapipe) (1.17.1)\n",
      "Requirement already satisfied: pycparser in c:\\users\\pramo\\mp_env\\lib\\site-packages (from CFFI>=1.0->sounddevice>=0.4.4->mediapipe) (2.22)\n",
      "Requirement already satisfied: ml_dtypes>=0.5.0 in c:\\users\\pramo\\mp_env\\lib\\site-packages (from jax->mediapipe) (0.5.3)\n",
      "Requirement already satisfied: opt_einsum in c:\\users\\pramo\\mp_env\\lib\\site-packages (from jax->mediapipe) (3.4.0)\n",
      "Requirement already satisfied: scipy>=1.12 in c:\\users\\pramo\\mp_env\\lib\\site-packages (from jax->mediapipe) (1.15.3)\n",
      "Requirement already satisfied: contourpy>=1.0.1 in c:\\users\\pramo\\mp_env\\lib\\site-packages (from matplotlib->mediapipe) (1.3.2)\n",
      "Requirement already satisfied: cycler>=0.10 in c:\\users\\pramo\\mp_env\\lib\\site-packages (from matplotlib->mediapipe) (0.12.1)\n",
      "Requirement already satisfied: fonttools>=4.22.0 in c:\\users\\pramo\\mp_env\\lib\\site-packages (from matplotlib->mediapipe) (4.59.2)\n",
      "Requirement already satisfied: kiwisolver>=1.3.1 in c:\\users\\pramo\\mp_env\\lib\\site-packages (from matplotlib->mediapipe) (1.4.9)\n",
      "Requirement already satisfied: packaging>=20.0 in c:\\users\\pramo\\mp_env\\lib\\site-packages (from matplotlib->mediapipe) (25.0)\n",
      "Requirement already satisfied: pillow>=8 in c:\\users\\pramo\\mp_env\\lib\\site-packages (from matplotlib->mediapipe) (11.3.0)\n",
      "Requirement already satisfied: pyparsing>=2.3.1 in c:\\users\\pramo\\mp_env\\lib\\site-packages (from matplotlib->mediapipe) (3.2.3)\n",
      "Requirement already satisfied: python-dateutil>=2.7 in c:\\users\\pramo\\mp_env\\lib\\site-packages (from matplotlib->mediapipe) (2.9.0.post0)\n",
      "Requirement already satisfied: six>=1.5 in c:\\users\\pramo\\mp_env\\lib\\site-packages (from python-dateutil>=2.7->matplotlib->mediapipe) (1.17.0)\n",
      "Note: you may need to restart the kernel to use updated packages.\n"
     ]
    }
   ],
   "source": [
    "pip install mediapipe opencv-python numpy\n"
   ]
  },
  {
   "cell_type": "code",
   "execution_count": 2,
   "id": "a25e64ab-5931-4f3e-9528-21c2724f47d9",
   "metadata": {},
   "outputs": [],
   "source": [
    "import mediapipe as mp\n",
    "import cv2\n",
    "import numpy as np\n",
    "mp_drawings=mp.solutions.drawing_utils\n",
    "mp_pose=mp.solutions.pose"
   ]
  },
  {
   "cell_type": "code",
   "execution_count": 3,
   "id": "6a3c27d8-a444-4801-9ab9-51256419291b",
   "metadata": {},
   "outputs": [],
   "source": [
    "cap=cv2.VideoCapture(0)\n",
    "while cap.isOpened():\n",
    "    ret,frame=cap.read()\n",
    "    cv2.imshow('media read',frame)\n",
    "    if cv2.waitKey(10) & 0xFF == ord('q'):\n",
    "        break\n",
    "cap.release()\n",
    "cv2.destroyAllWindows()"
   ]
  },
  {
   "cell_type": "code",
   "execution_count": 4,
   "id": "71839601-c9fb-4391-9fb5-50056205fef9",
   "metadata": {},
   "outputs": [],
   "source": [
    "cap=cv2.VideoCapture(0)\n",
    "#Setup mediapipe instance\n",
    "with mp_pose.Pose(min_detection_confidence=0.5,min_tracking_confidence=0.5) as pose:\n",
    "    while cap.isOpened():\n",
    "        ret,frame=cap.read()\n",
    "\n",
    "        #recolor image to RGB\n",
    "        image=cv2.cvtColor(frame,cv2.COLOR_BGR2RGB)\n",
    "        image.flags.writeable=False\n",
    "\n",
    "        #Make Detection\n",
    "        results=pose.process(image)\n",
    "\n",
    "        \n",
    "        image.flags.writeable=True\n",
    "        image=cv2.cvtColor(frame,cv2.COLOR_RGB2BGR)\n",
    "\n",
    "        #Render Detection\n",
    "        mp_drawings.draw_landmarks(image,results.pose_landmarks,mp_pose.POSE_CONNECTIONS)\n",
    "        \n",
    "        cv2.imshow('media read',image)\n",
    "        if cv2.waitKey(10) & 0xFF == ord('q'):\n",
    "            break\n",
    "    cap.release()\n",
    "    cv2.destroyAllWindows()"
   ]
  },
  {
   "cell_type": "code",
   "execution_count": 5,
   "id": "faef1064-1e0d-448e-b231-ae9c2349fe07",
   "metadata": {},
   "outputs": [
    {
     "data": {
      "text/plain": [
       "landmark {\n",
       "  x: 0.62496388\n",
       "  y: 0.908719778\n",
       "  z: -2.31637168\n",
       "  visibility: 0.996616185\n",
       "}\n",
       "landmark {\n",
       "  x: 0.650570512\n",
       "  y: 0.827625871\n",
       "  z: -2.35057783\n",
       "  visibility: 0.996749222\n",
       "}\n",
       "landmark {\n",
       "  x: 0.674644887\n",
       "  y: 0.823869824\n",
       "  z: -2.35047245\n",
       "  visibility: 0.997339666\n",
       "}\n",
       "landmark {\n",
       "  x: 0.697235882\n",
       "  y: 0.820298135\n",
       "  z: -2.35119128\n",
       "  visibility: 0.99704051\n",
       "}\n",
       "landmark {\n",
       "  x: 0.583306432\n",
       "  y: 0.82552439\n",
       "  z: -2.30859\n",
       "  visibility: 0.995497406\n",
       "}\n",
       "landmark {\n",
       "  x: 0.564099\n",
       "  y: 0.820344269\n",
       "  z: -2.30834818\n",
       "  visibility: 0.995671809\n",
       "}\n",
       "landmark {\n",
       "  x: 0.547294199\n",
       "  y: 0.814950585\n",
       "  z: -2.30846763\n",
       "  visibility: 0.995270193\n",
       "}\n",
       "landmark {\n",
       "  x: 0.733351648\n",
       "  y: 0.804866672\n",
       "  z: -1.90754735\n",
       "  visibility: 0.998487532\n",
       "}\n",
       "landmark {\n",
       "  x: 0.535525501\n",
       "  y: 0.795139074\n",
       "  z: -1.69709396\n",
       "  visibility: 0.997406662\n",
       "}\n",
       "landmark {\n",
       "  x: 0.673383653\n",
       "  y: 0.954302847\n",
       "  z: -2.10093141\n",
       "  visibility: 0.998734117\n",
       "}\n",
       "landmark {\n",
       "  x: 0.594666839\n",
       "  y: 0.949480891\n",
       "  z: -2.04195237\n",
       "  visibility: 0.997346461\n",
       "}\n",
       "landmark {\n",
       "  x: 0.915138066\n",
       "  y: 1.01729786\n",
       "  z: -1.37078094\n",
       "  visibility: 0.994753242\n",
       "}\n",
       "landmark {\n",
       "  x: 0.444602162\n",
       "  y: 0.979562104\n",
       "  z: -0.939134777\n",
       "  visibility: 0.991126\n",
       "}\n",
       "landmark {\n",
       "  x: 1.10910058\n",
       "  y: 1.38359571\n",
       "  z: -1.27743161\n",
       "  visibility: 0.428077817\n",
       "}\n",
       "landmark {\n",
       "  x: 0.33971408\n",
       "  y: 1.29856265\n",
       "  z: -0.670504928\n",
       "  visibility: 0.432709128\n",
       "}\n",
       "landmark {\n",
       "  x: 1.04885721\n",
       "  y: 1.6839143\n",
       "  z: -1.52756476\n",
       "  visibility: 0.187526137\n",
       "}\n",
       "landmark {\n",
       "  x: 0.375255167\n",
       "  y: 1.23377681\n",
       "  z: -1.14138019\n",
       "  visibility: 0.514290214\n",
       "}\n",
       "landmark {\n",
       "  x: 1.05801547\n",
       "  y: 1.80201125\n",
       "  z: -1.61329174\n",
       "  visibility: 0.153121874\n",
       "}\n",
       "landmark {\n",
       "  x: 0.367436767\n",
       "  y: 1.22838902\n",
       "  z: -1.21750379\n",
       "  visibility: 0.409591049\n",
       "}\n",
       "landmark {\n",
       "  x: 1.01045585\n",
       "  y: 1.75363708\n",
       "  z: -1.67503953\n",
       "  visibility: 0.211977258\n",
       "}\n",
       "landmark {\n",
       "  x: 0.375189841\n",
       "  y: 1.19626939\n",
       "  z: -1.25433993\n",
       "  visibility: 0.470477551\n",
       "}\n",
       "landmark {\n",
       "  x: 0.992360771\n",
       "  y: 1.71803081\n",
       "  z: -1.55946994\n",
       "  visibility: 0.20236741\n",
       "}\n",
       "landmark {\n",
       "  x: 0.401649803\n",
       "  y: 1.20017314\n",
       "  z: -1.16813099\n",
       "  visibility: 0.468733639\n",
       "}\n",
       "landmark {\n",
       "  x: 0.857620358\n",
       "  y: 1.84511292\n",
       "  z: -0.196168527\n",
       "  visibility: 0.00101226161\n",
       "}\n",
       "landmark {\n",
       "  x: 0.510631144\n",
       "  y: 1.83918655\n",
       "  z: 0.200745195\n",
       "  visibility: 0.00107812311\n",
       "}\n",
       "landmark {\n",
       "  x: 0.849436462\n",
       "  y: 2.57839942\n",
       "  z: -0.159430251\n",
       "  visibility: 0.00502174068\n",
       "}\n",
       "landmark {\n",
       "  x: 0.51704073\n",
       "  y: 2.53959036\n",
       "  z: 0.180975139\n",
       "  visibility: 0.00654398138\n",
       "}\n",
       "landmark {\n",
       "  x: 0.853017688\n",
       "  y: 3.20874882\n",
       "  z: 0.636378765\n",
       "  visibility: 0.00189046119\n",
       "}\n",
       "landmark {\n",
       "  x: 0.553282797\n",
       "  y: 3.1866641\n",
       "  z: 0.696761727\n",
       "  visibility: 0.000477350637\n",
       "}\n",
       "landmark {\n",
       "  x: 0.864656925\n",
       "  y: 3.29252386\n",
       "  z: 0.662483811\n",
       "  visibility: 0.00126830325\n",
       "}\n",
       "landmark {\n",
       "  x: 0.555562258\n",
       "  y: 3.26765108\n",
       "  z: 0.726618707\n",
       "  visibility: 0.00131433189\n",
       "}\n",
       "landmark {\n",
       "  x: 0.801737428\n",
       "  y: 3.4296279\n",
       "  z: -0.172679693\n",
       "  visibility: 0.00052254129\n",
       "}\n",
       "landmark {\n",
       "  x: 0.598001242\n",
       "  y: 3.4160037\n",
       "  z: -0.115796149\n",
       "  visibility: 0.00146407052\n",
       "}"
      ]
     },
     "execution_count": 5,
     "metadata": {},
     "output_type": "execute_result"
    }
   ],
   "source": [
    "results.pose_landmarks  #gives individual points on the body axis "
   ]
  },
  {
   "cell_type": "code",
   "execution_count": 12,
   "id": "e90d950a-069e-4a66-9040-23e1fe9d7811",
   "metadata": {},
   "outputs": [
    {
     "data": {
      "text/plain": [
       "frozenset({(0, 1),\n",
       "           (0, 4),\n",
       "           (1, 2),\n",
       "           (2, 3),\n",
       "           (3, 7),\n",
       "           (4, 5),\n",
       "           (5, 6),\n",
       "           (6, 8),\n",
       "           (9, 10),\n",
       "           (11, 12),\n",
       "           (11, 13),\n",
       "           (11, 23),\n",
       "           (12, 14),\n",
       "           (12, 24),\n",
       "           (13, 15),\n",
       "           (14, 16),\n",
       "           (15, 17),\n",
       "           (15, 19),\n",
       "           (15, 21),\n",
       "           (16, 18),\n",
       "           (16, 20),\n",
       "           (16, 22),\n",
       "           (17, 19),\n",
       "           (18, 20),\n",
       "           (23, 24),\n",
       "           (23, 25),\n",
       "           (24, 26),\n",
       "           (25, 27),\n",
       "           (26, 28),\n",
       "           (27, 29),\n",
       "           (27, 31),\n",
       "           (28, 30),\n",
       "           (28, 32),\n",
       "           (29, 31),\n",
       "           (30, 32)})"
      ]
     },
     "execution_count": 12,
     "metadata": {},
     "output_type": "execute_result"
    }
   ],
   "source": [
    "mp_pose.POSE_CONNECTIONS   #connection in the coordinates"
   ]
  },
  {
   "cell_type": "code",
   "execution_count": 6,
   "id": "30581412-8484-42c8-895a-0d7698a3d9a0",
   "metadata": {},
   "outputs": [],
   "source": [
    "cap=cv2.VideoCapture(0)\n",
    "#Setup mediapipe instance\n",
    "with mp_pose.Pose(min_detection_confidence=0.5,min_tracking_confidence=0.5) as pose:\n",
    "    while cap.isOpened():\n",
    "        ret,frame=cap.read()\n",
    "\n",
    "        #recolor image to RGB\n",
    "        image=cv2.cvtColor(frame,cv2.COLOR_BGR2RGB)\n",
    "        image.flags.writeable=False\n",
    "\n",
    "        #Make Detection\n",
    "        results=pose.process(image)\n",
    "\n",
    "        \n",
    "        image.flags.writeable=True\n",
    "        image=cv2.cvtColor(frame,cv2.COLOR_RGB2BGR)\n",
    "\n",
    "        #Extract Landmarks\n",
    "        try:\n",
    "            landmarks=results.pose_landmarks.landmark\n",
    "        except:\n",
    "            pass\n",
    "\n",
    "        #Render Detection\n",
    "        mp_drawings.draw_landmarks(image,results.pose_landmarks,mp_pose.POSE_CONNECTIONS)\n",
    "        \n",
    "        cv2.imshow('media read',image)\n",
    "        if cv2.waitKey(10) & 0xFF == ord('q'):\n",
    "            break\n",
    "    cap.release()\n",
    "    cv2.destroyAllWindows()"
   ]
  },
  {
   "cell_type": "code",
   "execution_count": 7,
   "id": "64c8b136-657a-4f25-88c3-90d21270ddd8",
   "metadata": {},
   "outputs": [
    {
     "data": {
      "text/plain": [
       "x: 0.603859484\n",
       "y: 0.588934362\n",
       "z: -1.25143909\n",
       "visibility: 0.999755204"
      ]
     },
     "execution_count": 7,
     "metadata": {},
     "output_type": "execute_result"
    }
   ],
   "source": [
    "landmarks[0]"
   ]
  },
  {
   "cell_type": "code",
   "execution_count": 8,
   "id": "b2838d01-9dcb-4a02-8ed4-d597e310dc03",
   "metadata": {},
   "outputs": [
    {
     "name": "stdout",
     "output_type": "stream",
     "text": [
      "PoseLandmark.NOSE\n",
      "PoseLandmark.LEFT_EYE_INNER\n",
      "PoseLandmark.LEFT_EYE\n",
      "PoseLandmark.LEFT_EYE_OUTER\n",
      "PoseLandmark.RIGHT_EYE_INNER\n",
      "PoseLandmark.RIGHT_EYE\n",
      "PoseLandmark.RIGHT_EYE_OUTER\n",
      "PoseLandmark.LEFT_EAR\n",
      "PoseLandmark.RIGHT_EAR\n",
      "PoseLandmark.MOUTH_LEFT\n",
      "PoseLandmark.MOUTH_RIGHT\n",
      "PoseLandmark.LEFT_SHOULDER\n",
      "PoseLandmark.RIGHT_SHOULDER\n",
      "PoseLandmark.LEFT_ELBOW\n",
      "PoseLandmark.RIGHT_ELBOW\n",
      "PoseLandmark.LEFT_WRIST\n",
      "PoseLandmark.RIGHT_WRIST\n",
      "PoseLandmark.LEFT_PINKY\n",
      "PoseLandmark.RIGHT_PINKY\n",
      "PoseLandmark.LEFT_INDEX\n",
      "PoseLandmark.RIGHT_INDEX\n",
      "PoseLandmark.LEFT_THUMB\n",
      "PoseLandmark.RIGHT_THUMB\n",
      "PoseLandmark.LEFT_HIP\n",
      "PoseLandmark.RIGHT_HIP\n",
      "PoseLandmark.LEFT_KNEE\n",
      "PoseLandmark.RIGHT_KNEE\n",
      "PoseLandmark.LEFT_ANKLE\n",
      "PoseLandmark.RIGHT_ANKLE\n",
      "PoseLandmark.LEFT_HEEL\n",
      "PoseLandmark.RIGHT_HEEL\n",
      "PoseLandmark.LEFT_FOOT_INDEX\n",
      "PoseLandmark.RIGHT_FOOT_INDEX\n"
     ]
    }
   ],
   "source": [
    "for  ln in mp_pose.PoseLandmark:\n",
    "    print(ln)"
   ]
  },
  {
   "cell_type": "code",
   "execution_count": 9,
   "id": "fdcaf418-4d04-4dd0-b19d-16b91c8b6d3a",
   "metadata": {},
   "outputs": [
    {
     "data": {
      "text/plain": [
       "x: 0.403274477\n",
       "y: 1.27472723\n",
       "z: -0.71937561\n",
       "visibility: 0.363567382"
      ]
     },
     "execution_count": 9,
     "metadata": {},
     "output_type": "execute_result"
    }
   ],
   "source": [
    "landmarks[mp_pose.PoseLandmark.RIGHT_ELBOW.value]"
   ]
  },
  {
   "cell_type": "code",
   "execution_count": 10,
   "id": "9a129d4c-0e0f-4166-9282-4818e0d7eec3",
   "metadata": {},
   "outputs": [
    {
     "data": {
      "text/plain": [
       "x: 0.435073435\n",
       "y: 0.844881952\n",
       "z: -0.423723549\n",
       "visibility: 0.998355"
      ]
     },
     "execution_count": 10,
     "metadata": {},
     "output_type": "execute_result"
    }
   ],
   "source": [
    "landmarks[mp_pose.PoseLandmark.RIGHT_SHOULDER.value]"
   ]
  },
  {
   "cell_type": "code",
   "execution_count": 11,
   "id": "f50b18db-e48b-4900-bc67-f346ae410385",
   "metadata": {},
   "outputs": [
    {
     "data": {
      "text/plain": [
       "x: 0.427733183\n",
       "y: 1.27720964\n",
       "z: -1.70873618\n",
       "visibility: 0.377586335"
      ]
     },
     "execution_count": 11,
     "metadata": {},
     "output_type": "execute_result"
    }
   ],
   "source": [
    "landmarks[mp_pose.PoseLandmark.RIGHT_WRIST.value]"
   ]
  },
  {
   "cell_type": "raw",
   "id": "b1b4e575-8368-4073-901d-f6c69ead80e3",
   "metadata": {},
   "source": [
    "CALCULATE ANGLES"
   ]
  },
  {
   "cell_type": "code",
   "execution_count": 24,
   "id": "63e1e983-a9a1-441b-8f3d-618b9e85f25b",
   "metadata": {},
   "outputs": [],
   "source": [
    "def calculate_angle(a,b,c):\n",
    "    a=np.array(a)\n",
    "    b=np.array(b)\n",
    "    c=np.array(c)    \n",
    "    radians=np.arctan2(c[1]-b[1],c[0]-b[0])-np.arctan2(a[1]-b[1],a[0]-b[0])\n",
    "    angle=np.abs(radians*180.0/np.pi)\n",
    "\n",
    "    if angle>180.0:\n",
    "        angle=360-angle\n",
    "    \n",
    "    return angle"
   ]
  },
  {
   "cell_type": "code",
   "execution_count": 17,
   "id": "831cf93b-4835-4e92-8ddc-8d117d27f646",
   "metadata": {},
   "outputs": [],
   "source": [
    "shoulder=[landmarks[mp_pose.PoseLandmark.RIGHT_SHOULDER.value].x,landmarks[mp_pose.PoseLandmark.RIGHT_SHOULDER.value].y]\n",
    "elbow=[landmarks[mp_pose.PoseLandmark.RIGHT_ELBOW.value].x,landmarks[mp_pose.PoseLandmark.RIGHT_ELBOW.value].y]\n",
    "wrist=[landmarks[mp_pose.PoseLandmark.RIGHT_WRIST.value].x,landmarks[mp_pose.PoseLandmark.RIGHT_WRIST.value].y]"
   ]
  },
  {
   "cell_type": "code",
   "execution_count": 18,
   "id": "14611a80-5316-465a-9883-0cb4ee2de4a5",
   "metadata": {},
   "outputs": [
    {
     "data": {
      "text/plain": [
       "([0.4350734353065491, 0.8448819518089294],\n",
       " [0.4032744765281677, 1.27472722530365],\n",
       " [0.4277331829071045, 1.2772096395492554])"
      ]
     },
     "execution_count": 18,
     "metadata": {},
     "output_type": "execute_result"
    }
   ],
   "source": [
    "shoulder, elbow, wrist\n"
   ]
  },
  {
   "cell_type": "code",
   "execution_count": 25,
   "id": "50601fbb-f6a8-4e7a-a59e-01937a3aacc3",
   "metadata": {},
   "outputs": [
    {
     "data": {
      "text/plain": [
       "91.56443596405141"
      ]
     },
     "execution_count": 25,
     "metadata": {},
     "output_type": "execute_result"
    }
   ],
   "source": [
    "calculate_angle(shoulder, elbow, wrist)"
   ]
  },
  {
   "cell_type": "raw",
   "id": "169ca023-df8a-48bf-9869-5286510cc8bf",
   "metadata": {},
   "source": [
    "angle calculate"
   ]
  },
  {
   "cell_type": "code",
   "execution_count": 34,
   "id": "1d8b0851-10d7-45b6-8b38-5a7e736943f0",
   "metadata": {},
   "outputs": [],
   "source": [
    "import cv2\n",
    "import mediapipe as mp\n",
    "import numpy as np\n",
    "import math\n",
    "\n",
    "mp_drawing = mp.solutions.drawing_utils\n",
    "mp_pose = mp.solutions.pose\n",
    "\n",
    "# Function to calculate angle\n",
    "def calculate_angle(a, b, c):\n",
    "    a = np.array(a)  # First point\n",
    "    b = np.array(b)  # Middle point\n",
    "    c = np.array(c)  # End point\n",
    "\n",
    "    radians = np.arctan2(c[1]-b[1], c[0]-b[0]) - np.arctan2(a[1]-b[1], a[0]-b[0])\n",
    "    angle = np.abs(radians*180.0/np.pi)\n",
    "\n",
    "    if angle > 180.0:\n",
    "        angle = 360-angle\n",
    "\n",
    "    return angle\n",
    "\n",
    "cap = cv2.VideoCapture(0)\n",
    "\n",
    "# Setup mediapipe instance\n",
    "with mp_pose.Pose(min_detection_confidence=0.5, min_tracking_confidence=0.5) as pose:\n",
    "    while cap.isOpened():\n",
    "        ret, frame = cap.read()\n",
    "        if not ret:\n",
    "            break\n",
    "\n",
    "        # Recolor image to RGB\n",
    "        image = cv2.cvtColor(frame, cv2.COLOR_BGR2RGB)\n",
    "        image.flags.writeable = False\n",
    "\n",
    "        # Make detection\n",
    "        results = pose.process(image)\n",
    "\n",
    "        # Recolor back to BGR\n",
    "        image.flags.writeable = True\n",
    "        image = cv2.cvtColor(image, cv2.COLOR_RGB2BGR)\n",
    "\n",
    "        # Extract landmarks\n",
    "        try:\n",
    "            landmarks = results.pose_landmarks.landmark\n",
    "\n",
    "            shoulder = [landmarks[mp_pose.PoseLandmark.RIGHT_SHOULDER.value].x,\n",
    "                        landmarks[mp_pose.PoseLandmark.RIGHT_SHOULDER.value].y]\n",
    "            elbow = [landmarks[mp_pose.PoseLandmark.RIGHT_ELBOW.value].x,\n",
    "                     landmarks[mp_pose.PoseLandmark.RIGHT_ELBOW.value].y]\n",
    "            wrist = [landmarks[mp_pose.PoseLandmark.RIGHT_WRIST.value].x,\n",
    "                     landmarks[mp_pose.PoseLandmark.RIGHT_WRIST.value].y]\n",
    "\n",
    "            # Calculate angle\n",
    "            angle = calculate_angle(shoulder, elbow, wrist)\n",
    "\n",
    "            # Show angle on elbow\n",
    "            coords = tuple(np.multiply(elbow, [640, 480]).astype(int))\n",
    "            cv2.putText(image, str(int(angle)),\n",
    "                        coords,\n",
    "                        cv2.FONT_HERSHEY_SIMPLEX, 0.7, (255, 255, 255), 2, cv2.LINE_AA)\n",
    "        except:\n",
    "            pass\n",
    "\n",
    "        # Render detections\n",
    "        mp_drawing.draw_landmarks(image, results.pose_landmarks, mp_pose.POSE_CONNECTIONS)\n",
    "\n",
    "        cv2.imshow('MediaPipe Feed', image)\n",
    "\n",
    "        if cv2.waitKey(10) & 0xFF == ord('q'):\n",
    "            break\n",
    "\n",
    "    cap.release()\n",
    "    cv2.destroyAllWindows()\n"
   ]
  },
  {
   "cell_type": "raw",
   "id": "bda4a807-725e-49c5-ba44-74286a294086",
   "metadata": {},
   "source": [
    "CURL COUNTER"
   ]
  },
  {
   "cell_type": "code",
   "execution_count": 35,
   "id": "640b9e8d-3804-4e86-8558-05db6ba0344b",
   "metadata": {},
   "outputs": [
    {
     "ename": "SyntaxError",
     "evalue": "invalid syntax (3006674155.py, line 69)",
     "output_type": "error",
     "traceback": [
      "\u001b[1;36m  Cell \u001b[1;32mIn[35], line 69\u001b[1;36m\u001b[0m\n\u001b[1;33m    counter++\u001b[0m\n\u001b[1;37m             ^\u001b[0m\n\u001b[1;31mSyntaxError\u001b[0m\u001b[1;31m:\u001b[0m invalid syntax\n"
     ]
    }
   ],
   "source": [
    "import cv2\n",
    "import mediapipe as mp\n",
    "import numpy as np\n",
    "import math\n",
    "\n",
    "mp_drawing = mp.solutions.drawing_utils\n",
    "mp_pose = mp.solutions.pose\n",
    "\n",
    "# Function to calculate angle\n",
    "def calculate_angle(a, b, c):\n",
    "    a = np.array(a)  # First point\n",
    "    b = np.array(b)  # Middle point\n",
    "    c = np.array(c)  # End point\n",
    "\n",
    "    radians = np.arctan2(c[1]-b[1], c[0]-b[0]) - np.arctan2(a[1]-b[1], a[0]-b[0])\n",
    "    angle = np.abs(radians*180.0/np.pi)\n",
    "\n",
    "    if angle > 180.0:\n",
    "        angle = 360-angle\n",
    "\n",
    "    return angle\n",
    "\n",
    "cap = cv2.VideoCapture(0)\n",
    "\n",
    "counter =0\n",
    "stage=None\n",
    "# Setup mediapipe instance\n",
    "with mp_pose.Pose(min_detection_confidence=0.5, min_tracking_confidence=0.5) as pose:\n",
    "    while cap.isOpened():\n",
    "        ret, frame = cap.read()\n",
    "        if not ret:\n",
    "            break\n",
    "\n",
    "        # Recolor image to RGB\n",
    "        image = cv2.cvtColor(frame, cv2.COLOR_BGR2RGB)\n",
    "        image.flags.writeable = False\n",
    "\n",
    "        # Make detection\n",
    "        results = pose.process(image)\n",
    "\n",
    "        # Recolor back to BGR\n",
    "        image.flags.writeable = True\n",
    "        image = cv2.cvtColor(image, cv2.COLOR_RGB2BGR)\n",
    "\n",
    "        # Extract landmarks\n",
    "        try:\n",
    "            landmarks = results.pose_landmarks.landmark\n",
    "\n",
    "            shoulder = [landmarks[mp_pose.PoseLandmark.RIGHT_SHOULDER.value].x,\n",
    "                        landmarks[mp_pose.PoseLandmark.RIGHT_SHOULDER.value].y]\n",
    "            elbow = [landmarks[mp_pose.PoseLandmark.RIGHT_ELBOW.value].x,\n",
    "                     landmarks[mp_pose.PoseLandmark.RIGHT_ELBOW.value].y]\n",
    "            wrist = [landmarks[mp_pose.PoseLandmark.RIGHT_WRIST.value].x,\n",
    "                     landmarks[mp_pose.PoseLandmark.RIGHT_WRIST.value].y]\n",
    "\n",
    "            # Calculate angle\n",
    "            angle = calculate_angle(shoulder, elbow, wrist)\n",
    "\n",
    "            # Show angle on elbow\n",
    "            coords = tuple(np.multiply(elbow, [640, 480]).astype(int))\n",
    "            cv2.putText(image, str(int(angle)),\n",
    "                        coords,\n",
    "                        cv2.FONT_HERSHEY_SIMPLEX, 0.7, (255, 255, 255), 2, cv2.LINE_AA)\n",
    "\n",
    "            if angle >160:\n",
    "                stage=\"down\"\n",
    "            if angle < 30 and stage == \"down\":\n",
    "                stage=\"up\"\n",
    "                counter+1\n",
    "                print(counter)\n",
    "        except:\n",
    "            pass\n",
    "\n",
    "        # Render detections\n",
    "        mp_drawing.draw_landmarks(image, results.pose_landmarks, mp_pose.POSE_CONNECTIONS)\n",
    "\n",
    "        cv2.imshow('MediaPipe Feed', image)\n",
    "\n",
    "        if cv2.waitKey(10) & 0xFF == ord('q'):\n",
    "            break\n",
    "\n",
    "    cap.release()\n",
    "    cv2.destroyAllWindows()\n"
   ]
  },
  {
   "cell_type": "code",
   "execution_count": null,
   "id": "0e4182f1-17b3-4bff-9beb-b245b7a68efe",
   "metadata": {},
   "outputs": [],
   "source": []
  }
 ],
 "metadata": {
  "kernelspec": {
   "display_name": "Python 3.10 (mediapipe)",
   "language": "python",
   "name": "mp_env"
  },
  "language_info": {
   "codemirror_mode": {
    "name": "ipython",
    "version": 3
   },
   "file_extension": ".py",
   "mimetype": "text/x-python",
   "name": "python",
   "nbconvert_exporter": "python",
   "pygments_lexer": "ipython3",
   "version": "3.10.1"
  }
 },
 "nbformat": 4,
 "nbformat_minor": 5
}
